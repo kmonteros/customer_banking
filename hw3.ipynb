{
 "cells": [
  {
   "cell_type": "code",
   "execution_count": 1,
   "id": "0a9cfd01-2053-40ea-8595-d04efd311b1f",
   "metadata": {},
   "outputs": [],
   "source": [
    "\"\"\"Import the Account class from the Account.py file.\"\"\"\n",
    "from Account import Account\n",
    "\n",
    "# Define a function for the Savings Account\n",
    "def create_savings_account(balance, interest, months):\n",
    "    \"\"\"Creates a savings account, calculates interest earned, and updates the account balance.\n",
    "\n",
    "    Args:\n",
    "        balance (float): The initial savings account balance.\n",
    "        interest_rate (float): The APR interest rate for the savings account.\n",
    "        months (int): The length of months to determine the amount of interest.\n",
    "\n",
    "    Returns:\n",
    "        float: The updated savings account balance after adding the interest earned.\n",
    "        And returns the interest earned.\n",
    "    \"\"\"\n",
    "    # Create an instance of the `Account` class and pass in the balance and interest parameters.\n",
    "    #  Hint: You need to add the interest as a value, i.e, 0.\n",
    "    savings_account = Account(balance, interest)\n",
    "\n",
    "    # Calculate interest earned\n",
    "    interest_earned = balance * (interest/100 * months/12)\n",
    "\n",
    "    # Update the savings account balance by adding the interest earned\n",
    "    updated_balance = savings_account.balance + interest_earned\n",
    "\n",
    "    # Pass the updated_balance to the set balance method using the instance of the SavingsAccount class.\n",
    "    savings_account.set_balance(updated_balance)\n",
    "\n",
    "    # Pass the interest_earned to the set interest method using the instance of the SavingsAccount class.\n",
    "    savings_account.set_interest(interest_earned)\n",
    "\n",
    "    # Return the updated balance and interest earned.\n",
    "    return updated_balance, interest_earned "
   ]
  },
  {
   "cell_type": "code",
   "execution_count": 3,
   "id": "4df02796-34cd-46a9-a1bd-4e9cf7b9c973",
   "metadata": {},
   "outputs": [],
   "source": [
    "\"\"\"Import the Account class from the Account.py file.\"\"\"\n",
    "from Account import Account\n",
    "\n",
    "def create_cd_account(balance, interest, months):\n",
    "    \"\"\"Creates a CD account, calculates interest earned, and updates the account balance.\n",
    "\n",
    "    Args:\n",
    "        balance (float): The initial CD account balance.\n",
    "        interest_rate (float): The APR interest rate for the CD account.\n",
    "        months (int): The length of months for the CD.\n",
    "\n",
    "    Returns:\n",
    "        float: The updated CD account balance after adding the interest earned.\n",
    "        And returns the interest earned.\n",
    "    \"\"\"\n",
    "    # Create an instance of the `Account` class and pass in the balance and interest parameters.\n",
    "    #  Hint: You need to add the interest as a value, i.e, 0.\n",
    "    cd_account = Account(balance, interest)\n",
    "\n",
    "    # Calculate interest earned\n",
    "    interest_earned = balance * (interest/100 * months/12)\n",
    "\n",
    "    # Update the CD account balance by adding the interest earned\n",
    "    updated_balance = cd_account.balance + interest_earned\n",
    "\n",
    "    # Pass the updated_balance to the set balance method using the instance of the CDAccount class.\n",
    "    cd_account.set_balance(updated_balance)\n",
    "\n",
    "    # Pass the interest_earned to the set interest method using the instance of the CDAccount class.\n",
    "    cd_account.set_interest(interest_earned)\n",
    "\n",
    "    # Return the updated balance and interest earned.\n",
    "    return updated_balance, interest_earned"
   ]
  },
  {
   "cell_type": "code",
   "execution_count": 5,
   "id": "2451f176-19de-42d4-b516-a32610e4717e",
   "metadata": {},
   "outputs": [
    {
     "name": "stdin",
     "output_type": "stream",
     "text": [
      "Enter the savings account balance:  1000\n",
      "Enter the savings account interest rate(%):  3\n",
      "Enter the number of months for the savings account:  12\n"
     ]
    },
    {
     "name": "stdout",
     "output_type": "stream",
     "text": [
      "Savings Account: Interest Earned: $30.00, Updated Balance: $1030.00\n"
     ]
    },
    {
     "name": "stdin",
     "output_type": "stream",
     "text": [
      "Enter the CD account balance:  500\n",
      "Enter the CD account interest rate (%):  4\n",
      "enter the number of months for the CD account:  20\n"
     ]
    },
    {
     "name": "stdout",
     "output_type": "stream",
     "text": [
      "CD Account: Interest Earned: $33.33, Updated Balance: $533.33\n"
     ]
    }
   ],
   "source": [
    "# Import the create_cd_account and create_savings_account functions\n",
    "from savings_account import create_savings_account\n",
    "from cd_account import create_cd_account\n",
    "\n",
    "# Define the main function\n",
    "def main():\n",
    "    \"\"\"This function prompts the user to enter the savings and cd account balance, interest rate,\n",
    "    and the length of months to determine the interest gained.\n",
    "    It displays the interest earned on the savings and CD accounts and updates the balances.\n",
    "    \"\"\"\n",
    "    # Prompt the user to set the savings balance, interest rate, and months for the savings account.\n",
    "    savings_balance = float(input(\"Enter the savings account balance: \"))\n",
    "    savings_interest = float(input(\"Enter the savings account interest rate(%): \"))\n",
    "    savings_months = int(input(\"Enter the number of months for the savings account: \"))\n",
    "\n",
    "    # Call the create_savings_account function and pass the variables from the user.\n",
    "    updated_balance, interest_earned = create_savings_account(savings_balance, savings_interest, savings_months)\n",
    "\n",
    "    # Print out the interest earned and updated savings account balance with interest earned for the given months.\n",
    "    print(f\"Savings Account: Interest Earned: ${interest_earned:.2f}, Updated Balance: ${updated_balance:.2f}\")\n",
    "\n",
    "    # Prompt the user to set the CD balance, interest rate, and months for the CD account.\n",
    "    cd_balance = float(input(\"Enter the CD account balance: \"))\n",
    "    cd_interest = float(input(\"Enter the CD account interest rate (%): \"))\n",
    "    cd_months = int(input(\"enter the number of months for the CD account: \"))\n",
    "    \n",
    "\n",
    "    # Call the create_cd_account function and pass the variables from the user.\n",
    "    updated_balance, interest_earned = create_cd_account(cd_balance, cd_interest, cd_months)\n",
    "\n",
    "    # Print out the interest earned and updated CD account balance with interest earned for the given months.\n",
    "    print(f\"CD Account: Interest Earned: ${interest_earned:.2f}, Updated Balance: ${updated_balance:.2f}\")\n",
    "    \n",
    "\n",
    "if __name__ == \"__main__\":\n",
    "    # Call the main function.\n",
    "    main()"
   ]
  },
  {
   "cell_type": "code",
   "execution_count": null,
   "id": "547a0c21-2e1e-4c8b-9c5c-df9ae3d9486c",
   "metadata": {},
   "outputs": [],
   "source": []
  }
 ],
 "metadata": {
  "kernelspec": {
   "display_name": "Python 3 (ipykernel)",
   "language": "python",
   "name": "python3"
  },
  "language_info": {
   "codemirror_mode": {
    "name": "ipython",
    "version": 3
   },
   "file_extension": ".py",
   "mimetype": "text/x-python",
   "name": "python",
   "nbconvert_exporter": "python",
   "pygments_lexer": "ipython3",
   "version": "3.12.4"
  }
 },
 "nbformat": 4,
 "nbformat_minor": 5
}
